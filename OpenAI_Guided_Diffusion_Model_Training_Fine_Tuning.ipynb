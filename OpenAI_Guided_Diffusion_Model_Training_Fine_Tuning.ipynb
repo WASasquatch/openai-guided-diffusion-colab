{
  "cells": [
    {
      "cell_type": "markdown",
      "metadata": {
        "id": "view-in-github",
        "colab_type": "text"
      },
      "source": [
        "<a href=\"https://colab.research.google.com/github/WASasquatch/openai-guided-diffusion-colab/blob/main/OpenAI_Guided_Diffusion_Model_Training_Fine_Tuning.ipynb\" target=\"_parent\"><img src=\"https://colab.research.google.com/assets/colab-badge.svg\" alt=\"Open In Colab\"/></a>"
      ]
    },
    {
      "cell_type": "markdown",
      "source": [
        "#OpenAI Guided Diffusion - Model Training / Fine-Tuning ![visitors](https://visitor-badge.glitch.me/badge?page_id=OponAI-Guided-Diffusion-Colab&left_color=blue&right_color=orange)\n",
        "\n",
        "A user friendly (hopefully) notebook for training Diffusion Models for CLIP Guided Diffusion on [Disco Diffusion](https://discodiffusion.com/). This notebook is compatible with T4/P100 GPUs *(when batch size is set to ~2)*.\n",
        "\n",
        "Notebook created by **WAS**asquatch <font size=\"2\">(<font color=\"7e87f6\">Discord</font>: WAS\\#0263)</font>\n",
        "\n",
        "[*OpenAI Guided Diffusion*](https://github.com/openai/guided-diffusion) *is licensed under MIT license*\n",
        "\n",
        "## Other Tools\n",
        "\n",
        "- [Noodle Soup Prompts](https://rebrand.ly/noodle-soup-prompts) - Terminology Database for prompt exploration\n",
        "- [Portrait Playground](https://rebrand.ly/portrait-playground) - A version of Disco Diffusion with all current Portrait Generator Models. \n",
        "- [Portrait Generator `init_image` Prep](https://rebrand.ly/dd-image-prep) - Prep portraits other other `init_images` as approximations for better DD improvisation. "
      ],
      "metadata": {
        "id": "mvW3Tc2apVKm"
      }
    },
    {
      "cell_type": "markdown",
      "metadata": {
        "id": "IYtWMzOvLQ3s"
      },
      "source": [
        "# Setup Environment"
      ]
    },
    {
      "cell_type": "code",
      "execution_count": null,
      "metadata": {
        "cellView": "form",
        "id": "CheckGPU"
      },
      "outputs": [],
      "source": [
        "#@title 1) Check GPU Status\n",
        "import subprocess\n",
        "\n",
        "simple_nvidia_smi_display = False#@param {type:\"boolean\"}\n",
        "\n",
        "if simple_nvidia_smi_display:\n",
        "  #!nvidia-smi\n",
        "  nvidiasmi_output = subprocess.run(['nvidia-smi', '-L'], stdout=subprocess.PIPE).stdout.decode('utf-8')\n",
        "  print(nvidiasmi_output)\n",
        "else:\n",
        "  #!nvidia-smi -i 0 -e 0\n",
        "  nvidiasmi_output = subprocess.run(['nvidia-smi'], stdout=subprocess.PIPE).stdout.decode('utf-8')\n",
        "  print(nvidiasmi_output)\n",
        "  nvidiasmi_ecc_note = subprocess.run(['nvidia-smi', '-i', '0', '-e', '0'], stdout=subprocess.PIPE).stdout.decode('utf-8')\n",
        "  print(nvidiasmi_ecc_note)\n",
        "\n",
        "nvidiasmi_simple = subprocess.run(['nvidia-smi', '-L'], stdout=subprocess.PIPE).stdout.decode('utf-8')\n",
        "gpu_name = nvidiasmi_simple.split(':')[1].split('(')[0].strip()\n",
        "\n",
        "gpu_warning = None\n",
        "if 'Tesla T4' or 'Tesla P100' in gpu_name:\n",
        "  gpu_warning = \"\\033[1m\\33[31mWARNING:\\33[0m \\033[1mYou are using a limited VRAM GPU (\\33[33m\"+gpu_name+\"\\33[0m\\033[1m). You'll need to change \\\"_batch_size\\\" to 2 or under.\\33[0m\"\n",
        "  print(gpu_warning)"
      ]
    },
    {
      "cell_type": "code",
      "execution_count": null,
      "metadata": {
        "id": "jtClEMAMLVHw",
        "cellView": "form"
      },
      "outputs": [],
      "source": [
        "#@title 2) Install Pre-requisites and Scripts\n",
        "import IPython, psutil, os, time\n",
        "from google.colab import output\n",
        "from IPython.display import clear_output \n",
        "\n",
        "class log:\n",
        "    f = lambda color: lambda string: print(color + string + \"\\33[0m\")\n",
        "    black = f(\"\\33[30m\")\n",
        "    red = f(\"\\33[31m\")\n",
        "    green = f(\"\\33[32m\")\n",
        "    yellow = f(\"\\33[33m\")\n",
        "    blue = f(\"\\33[34m\")\n",
        "    megenta = f(\"\\33[35m\")\n",
        "    cyan = f(\"\\33[36m\")\n",
        "    white = f(\"\\33[37m\")\n",
        "    bold = f(\"\\033[1m\")\n",
        "    boldred = f(\"\\033[1m\\33[31m\")\n",
        "    boldgreen = f(\"\\033[1m\\33[32m\")\n",
        "    boldyellow = f(\"\\033[1m\\33[33m\")\n",
        "    boldblue = f(\"\\033[1m\\33[34m\")\n",
        "    boldmegenta = f(\"\\033[1m\\33[35m\")\n",
        "    boldcyan = f(\"\\033[1m\\33[36m\")\n",
        "\n",
        "from google.colab import drive\n",
        "drive.mount('/content/drive')\n",
        "\n",
        "%cd /content\n",
        "!git clone https://github.com/openai/guided-diffusion\n",
        "%cd /content/guided-diffusion  \n",
        "!pip install -e .\n",
        "!pip install mpi4py \n",
        "\n",
        "display(IPython.display.Javascript('''\n",
        " function ClickConnect(){\n",
        "   btn = document.querySelector(\"colab-connect-button\")\n",
        "   if (btn != null){\n",
        "     console.log(\"Click colab-connect-button\"); \n",
        "     btn.click() \n",
        "     }\n",
        "   \n",
        "   btn = document.getElementById('ok')\n",
        "   if (btn != null){\n",
        "     console.log(\"Click reconnect\"); \n",
        "     btn.click() \n",
        "     }\n",
        "  }\n",
        "  \n",
        "setInterval(ClickConnect,60000)\n",
        "'''))\n",
        "\n",
        "log.boldgreen(\"Pre-Requisites Installed.\")\n",
        "\n",
        "p = psutil.Process(os.getpid())\n",
        "uptime = time.time() - p.create_time()\n",
        "log.yellow(\"Time until session disconnect: \"+str(round((43200-uptime)/3600))+\" hours\")\n"
      ]
    },
    {
      "cell_type": "markdown",
      "metadata": {
        "id": "CiMreX-_n6Kz"
      },
      "source": [
        "# Train Diffusion Model\n"
      ]
    },
    {
      "cell_type": "markdown",
      "metadata": {
        "id": "3p6ThbjFxtBm"
      },
      "source": [
        "\n",
        "## Path Settings:\n",
        "\n",
        " - <font size=\"5\">`_dataset_path` = Path to your dataset folder containing images.</font>\n",
        " - <font size=\"5\">`_checkpoint_path` = Path to a folder where Guided Diffusion will save progress checkpoints.</font>\n",
        " - <font size=\"5\">`_resume_checkpoint_path` = Path to a diffusion model to resume training/fine-tuning\n",
        "\n",
        "\n",
        "\n",
        "\n",
        "\n",
        "Because this is Guided Diffusion, CLIP will help build your images. This means you do not need to spend as much time training your model. Though, a fair amount of training is still required for a cohesive return. \n",
        "\n",
        "The notebook will train until your GPU quota is up, you stop it, or there is an error. You can check your progress by loading the `ema_0.9999_[num_steps_trained].pt` file as a Custom Model in [Disco Diffusion](https://discodiffusion.com/)\n",
        "\n",
        "Your custom model will require you to change the Custom Model Settings in order to run it. Probably something like like the following (though if you change trainning settings it may differ)\n",
        "\n",
        "## Custom Model Settings (Example)\n",
        "\n",
        "<font size=\"3\">\n",
        "\n",
        "```\n",
        "  model_config.update({\n",
        "      'attention_resolutions': '32, 16, 8',\n",
        "      'class_cond': False,\n",
        "      'diffusion_steps': 1000,\n",
        "      'rescale_timesteps': True,\n",
        "      'image_size': 512,\n",
        "      'learn_sigma': True,\n",
        "      'noise_schedule': 'linear',\n",
        "      'num_channels': 128,\n",
        "      'num_heads': 4,\n",
        "      'num_res_blocks': 2,\n",
        "      'resblock_updown': True,\n",
        "      'use_checkpoint': use_checkpoint,\n",
        "      'use_fp16': True,\n",
        "      'use_scale_shift_norm': True,\n",
        "    })\n",
        "```\n",
        "</font>"
      ]
    },
    {
      "cell_type": "markdown",
      "source": [
        "# Training Settings"
      ],
      "metadata": {
        "id": "agN6GMiswatM"
      }
    },
    {
      "cell_type": "code",
      "source": [
        "#@markdown ## **Basic Settings**\n",
        "#@markdown ---\n",
        "_dataset_path = \"/content/drive/MyDrive/AI/Datasets/set1/\" #@param{type: 'string'}\n",
        "_checkpoint_path = \"/content/drive/MyDrive/AI/Checkpoints/concept-art-model/\" #@param{type: 'string'}\n",
        "_resume_checkpoint_path = \"/content/drive/MyDrive/AI/Checkpoints/concept-art-model/ema_0.9999_070000.pt\" #@param{type:'string'}\n",
        "resume_checkpoint = True #@param{type: 'boolean'}\n",
        "#@markdown &nbsp;&nbsp;&nbsp; <font color=\"orange\">**NOTE**:</font> This resumes training a model specified in `_resume_checkpoint_path`\n",
        "\n",
        "_diffusion_steps = 1000 #@param{type: 'number'}\n",
        "_image_size = 512 #@param{type: 'number'}\n",
        "\n",
        "#@markdown &nbsp;\n",
        "#@markdown ## **Advanced Settings**\n",
        "#@markdown <br >\n",
        "\n",
        "#@markdown #### **Model Flags**\n",
        "_attention_resolutions = \"32,16,8\" #@param{type: 'string'}\n",
        "_class_cond = False #@param{type: 'boolean'}\n",
        "_learn_sigma = True #@param{type: 'boolean'}\n",
        "_noise_schedule = \"linear\" #@param{type: 'string'}\n",
        "_num_channels = 128 #@param{type: 'number'}\n",
        "_num_heads = 4 #@param{type: 'number'}\n",
        "_num_res_blocks = 2 #@param{type: 'number'}\n",
        "_resblock_updown = True #@param{type: 'boolean'}\n",
        "_use_fp16 = True #@param{type: 'boolean'}\n",
        "_use_scale_shift_norm = True #@param{type: 'boolean'}\n",
        "custom_model_flags = \"\" #@param{type: 'string'}\n",
        "#@markdown &nbsp;&nbsp;&nbsp; Customize flags which are not part of the settings.\n",
        "\n",
        "#@markdown &nbsp;\n",
        "#@markdown #### **Training Flags**\n",
        "_lr = 2e-5 #@param{type: 'string'}\n",
        "_batch_size = 2 #@param{type: 'number'}\n",
        "#@markdown &nbsp;&nbsp;&nbsp; <font color=\"orange\">**NOTE**:</font> It's important to set this according to GPU VRAM size. For Colab Free/Pro on T4/P100 a `_batch_size` of `2` will work.\n",
        "_save_interval = 10000 #@param{type: 'number'}\n",
        "#@markdown &nbsp;&nbsp;&nbsp; <font color=\"orange\">**NOTE**:</font> Save interval is in ***steps***.\n",
        "_log_interval = 50 #@param{type: 'number'}\n",
        "#@markdown &nbsp;&nbsp;&nbsp; <font color=\"orange\">**NOTE**:</font> Log interval is in ***steps***.\n",
        "custom_training_flags = \"\" #@param{type: 'string'}\n",
        "#@markdown &nbsp;&nbsp;&nbsp; Customize flags which are not part of the settings.\n",
        "\n",
        "#@markdown &nbsp;\n",
        "#@markdown #### **Export Settings**\n",
        "_use_checkpoint = True #@param{type: 'boolean'}\n",
        "_use_dd_checkpoint = True #@param{type: 'boolean'}\n",
        "#@markdown &nbsp;&nbsp;&nbsp; Use Disco Diffusion `use_checkpoint` variable.\n",
        "\n",
        "_use_dd_checkpoint = 'use_checkpoint' if _use_dd_checkpoint else _use_checkpoint\n",
        "\n",
        "log.boldgreen(\"SETTINGS COMPILED.\")\n",
        "print(\"\")\n",
        "log.boldblue(\"CUSTOM MODEL SETTINGS:\")\n",
        "print(\"\")\n",
        "\n",
        "log.bold(\"  model_config.update({\")\n",
        "log.bold(\"      'attention_resolutions': '\"+_attention_resolutions+\"',\")\n",
        "log.bold(\"      'class_cond': \"+str(_class_cond)+\",\")\n",
        "log.bold(\"      'diffusion_steps': \"+str(_diffusion_steps)+\",\")\n",
        "log.bold(\"      'rescale_timesteps': True,\")\n",
        "log.bold(\"      'image_size': \"+str(_image_size)+\",\")\n",
        "log.bold(\"      'learn_sigma': \"+str(_learn_sigma)+\",\")\n",
        "log.bold(\"      'noise_schedule': '\"+str(_noise_schedule)+\"',\")\n",
        "log.bold(\"      'num_channels': \"+str(_num_channels)+\",\")\n",
        "log.bold(\"      'num_heads': \"+str(_num_heads)+\",\")\n",
        "log.bold(\"      'num_res_blocks': \"+str(_num_res_blocks)+\",\")\n",
        "log.bold(\"      'resblock_updown': \"+str(_resblock_updown)+\",\")\n",
        "log.bold(\"      'use_checkpoint': \"+str(_use_dd_checkpoint)+\",\")\n",
        "log.bold(\"      'use_fp16': \"+str(_use_fp16)+\",\")\n",
        "log.bold(\"      'use_scale_shift_norm': \"+str(_use_scale_shift_norm)+\",\")\n",
        "log.bold(\"    })\")\n",
        "\n",
        "if gpu_warning:\n",
        "  print(\"\")\n",
        "  print(gpu_warning)"
      ],
      "metadata": {
        "id": "RTRZ28h_vz8r",
        "cellView": "form"
      },
      "execution_count": null,
      "outputs": []
    },
    {
      "cell_type": "markdown",
      "source": [
        "# 3) Train Guided Diffusion Model"
      ],
      "metadata": {
        "id": "xFmIjg-svdho"
      }
    },
    {
      "cell_type": "code",
      "execution_count": null,
      "metadata": {
        "id": "UfH7XSbKn7ib",
        "cellView": "form"
      },
      "outputs": [],
      "source": [
        "#@title Start Guided Diffusion training / fine-tuning\n",
        "#@markdown Run this cell to start the training session. \n",
        "_resume_checkpoint = '--resume_checkpoint ' if resume_checkpoint else ''\n",
        "_resume_checkpoint_path = _resume_checkpoint_path if resume_checkpoint else ''\n",
        "\n",
        "MODEL_FLAGS = f\"--attention_resolutions {_attention_resolutions} --class_cond {_class_cond} --diffusion_steps {_diffusion_steps} --image_size {_image_size} --learn_sigma {_learn_sigma} --noise_schedule {_noise_schedule} --num_channels {_num_channels} --num_heads {_num_heads}  --num_res_blocks {_num_res_blocks} --resblock_updown {_resblock_updown} --use_fp16 {_use_fp16} --use_scale_shift_norm {_use_scale_shift_norm} {custom_model_flags}\"\n",
        "TRAIN_FLAGS = f\"--lr {_lr} --batch_size {_batch_size} --save_interval {_save_interval} --log_interval {_log_interval} {_resume_checkpoint}{_resume_checkpoint_path} {custom_training_flags}\" \n",
        "DATASET_PATH=_dataset_path\n",
        "CHECKPOINT_PATH=_checkpoint_path\n",
        "\n",
        "%cd /content/guided-diffusion/\n",
        "!OPENAI_LOGDIR=$CHECKPOINT_PATH python scripts/image_train.py --data_dir $DATASET_PATH $MODEL_FLAGS $TRAIN_FLAGS"
      ]
    }
  ],
  "metadata": {
    "accelerator": "GPU",
    "colab": {
      "background_execution": "on",
      "collapsed_sections": [],
      "name": "OpenAI Guided Diffusion - Model Training / Fine-Tuning.ipynb",
      "provenance": [],
      "private_outputs": true,
      "machine_shape": "hm",
      "include_colab_link": true
    },
    "gpuClass": "standard",
    "kernelspec": {
      "display_name": "Python 3",
      "name": "python3"
    }
  },
  "nbformat": 4,
  "nbformat_minor": 0
}